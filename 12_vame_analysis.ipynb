{
 "cells": [
  {
   "cell_type": "code",
   "execution_count": 1,
   "metadata": {
    "collapsed": true
   },
   "outputs": [],
   "source": [
    "import os\n",
    "import time\n",
    "import copy\n",
    "import numpy as n\n",
    "import numpy.lib.recfunctions as rfn\n",
    "from matplotlib import pyplot as plt\n",
    "from sklearn.metrics import confusion_matrix\n",
    "import torch\n",
    "from torch import nn\n",
    "import umap\n",
    "import matplotlib\n",
    "from sklearn.decomposition import PCA"
   ]
  },
  {
   "cell_type": "code",
   "execution_count": 70,
   "metadata": {
    "collapsed": true
   },
   "outputs": [],
   "source": [
    "def load_data(data_root, dlc_dir, ann_dir, verbose=False):\n",
    "    \n",
    "    dlc_path = os.path.join(data_root, dlc_dir)\n",
    "    ann_path = os.path.join(data_root, ann_dir)\n",
    "    all_data = {}\n",
    "    if verbose: print(\"Loading files: \")\n",
    "    for f_name in os.listdir(dlc_path):\n",
    "        if f_name[-3:] != 'npy':\n",
    "            continue\n",
    "\n",
    "        dlc_file=os.path.join(dlc_path, f_name)\n",
    "        ann_file=os.path.join(ann_path, 'Annotated_' + f_name)\n",
    "        if verbose: print(\"\\t\" + f_name + \"\\n\\tAnnotated_\" + f_name)\n",
    "        data_dlc = n.load(dlc_file)\n",
    "        data_ann = n.load(ann_file)\n",
    "        labels = data_dlc[0]\n",
    "        dtype = [('t', n.int), ('ann', 'U30')]\n",
    "        i = 0\n",
    "        for label in data_dlc[0]:\n",
    "            i += 1\n",
    "            coord = 'x' if i % 2 == 0 else 'y'\n",
    "            dtype += [(label + '_' + coord , n.float32 )]\n",
    "\n",
    "        data_concat = n.concatenate((data_ann, data_dlc[1:]),axis=1)\n",
    "        data = n.array(n.zeros(data_concat.shape[0]), dtype = dtype)\n",
    "        for i in range(data_concat.shape[1]):\n",
    "            data[dtype[i][0]] = data_concat[:, i]\n",
    "        all_data[f_name[:-4]] = data\n",
    "    return all_data\n",
    "def extract_data(trial):\n",
    "    num_markers = int((len(trial.dtype.names)-2)/2)\n",
    "\n",
    "    all_labels = trial.dtype.names[2:]\n",
    "\n",
    "    markers_1 = []\n",
    "    markers_2 = []\n",
    "    positions_1 = n.zeros((trial.shape[0], int(num_markers/2), 2))\n",
    "    positions_2 = n.zeros((trial.shape[0], int(num_markers/2), 2))\n",
    "\n",
    "    for i in range(num_markers):\n",
    "        label = all_labels[i*2][:-2]\n",
    "        label_x = label+'_x'\n",
    "        label_y = label+'_y'\n",
    "        if label[-1] == '1':\n",
    "            markers_1.append(label)\n",
    "            idx = len(markers_1)-1\n",
    "            positions_1[:,idx, 0] = trial[label_x]\n",
    "            positions_1[:,idx, 1] = trial[label_y]\n",
    "        else:\n",
    "            markers_2.append(label)\n",
    "            idx = len(markers_2)-1\n",
    "            positions_2[:,idx,0] = trial[label_x]\n",
    "            positions_2[:,idx,1] = trial[label_y]\n",
    "    return n.array(markers_1), n.array(markers_2), positions_1, positions_2"
   ]
  },
  {
   "cell_type": "code",
   "execution_count": 66,
   "metadata": {
    "collapsed": true
   },
   "outputs": [],
   "source": [
    "# LOAD RAW DATA\n",
    "data_root = '/mnt/d/Ali/Google Drive/SWC/Experimental Neuroscience/social and affective systems/rat_social_beh'\n",
    "dlc_dir = 'postprocessedXYCoordinates'\n",
    "ann_dir = 'manualannotations'\n",
    "\n",
    "dlc_path = os.path.join(data_root, dlc_dir)\n",
    "ann_path = os.path.join(data_root, ann_dir)\n",
    "\n",
    "all_data = load_data(data_root, dlc_dir, ann_dir)\n",
    "trial = all_data['Female1']"
   ]
  },
  {
   "cell_type": "code",
   "execution_count": 73,
   "metadata": {
    "collapsed": false
   },
   "outputs": [],
   "source": [
    "mark_1, mark_2, pos_1, pos_2 = extract_data(trial)\n",
    "labels = trial['ann']"
   ]
  },
  {
   "cell_type": "code",
   "execution_count": 4,
   "metadata": {
    "collapsed": true
   },
   "outputs": [],
   "source": [
    "# LOAD VAME DATA\n",
    "path = '/mnt/d/single-mouse-f1-Nov20-2020/results/Female1/VAME/kmeans-15'\n",
    "\n",
    "beh = {}\n",
    "for file in os.listdir(os.path.join(path, 'behavior_quantification')):\n",
    "    beh[file[:-4]] = n.load(os.path.join(path, 'behavior_quantification',file))\n",
    "k_means_labels = n.load(os.path.join(path, '15_km_label_Female1.npy'))\n",
    "latent_vectors = n.load(os.path.join(path, 'latent_vector_Female1.npy'))\n"
   ]
  },
  {
   "cell_type": "code",
   "execution_count": 77,
   "metadata": {
    "collapsed": true
   },
   "outputs": [],
   "source": [
    "# PCA EMBEDDINGS \n",
    "pca = PCA(n_components=2)\n",
    "pca_embed = pca.fit(latent_vectors).transform(latent_vectors)"
   ]
  },
  {
   "cell_type": "code",
   "execution_count": null,
   "metadata": {
    "collapsed": true
   },
   "outputs": [],
   "source": [
    "# UMAP EMBEDDINGS\n",
    "reducer = umap.UMAP(random_state=42)\n",
    "reducer.fit(latent_vectors)\n",
    "umap_embed = reducer.transform(latent_vectors)\n",
    "assert(n.all(umap_embed == reducer.embedding_))"
   ]
  },
  {
   "cell_type": "code",
   "execution_count": null,
   "metadata": {
    "collapsed": false
   },
   "outputs": [],
   "source": [
    "fig, axs = plt.subplots(1,2, figsize=(20,10))\n",
    "axs[0].scatter(pca_embed[:,0], pca_embed[:,1],s=0.3,cmap='hsv', c=k_means_labels)\n",
    "axs[0].set_title(\"PCA Embeddings of Latent Space Clusters\")\n",
    "axs[0].set_aspect('equal', 'datalim')\n",
    "axs[1].scatter(umap_embed[:, 0], umap_embed[:, 1], c=k_means_labels, cmap='hsv', s=0.1)\n",
    "axs[1].set_aspect('equal', 'datalim')\n",
    "axs[1].set_title(\"UMAP Embeddings of Latent Space Clusters\")"
   ]
  },
  {
   "cell_type": "code",
   "execution_count": null,
   "metadata": {
    "collapsed": true
   },
   "outputs": [],
   "source": []
  }
 ],
 "metadata": {
  "anaconda-cloud": {},
  "kernelspec": {
   "display_name": "Python [conda env:gp]",
   "language": "python",
   "name": "conda-env-gp-py"
  },
  "language_info": {
   "codemirror_mode": {
    "name": "ipython",
    "version": 3
   },
   "file_extension": ".py",
   "mimetype": "text/x-python",
   "name": "python",
   "nbconvert_exporter": "python",
   "pygments_lexer": "ipython3",
   "version": "3.6.12"
  }
 },
 "nbformat": 4,
 "nbformat_minor": 1
}
