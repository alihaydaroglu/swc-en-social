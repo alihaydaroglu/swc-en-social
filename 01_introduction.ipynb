{
 "cells": [
  {
   "cell_type": "code",
   "execution_count": 3,
   "id": "a0087b6b",
   "metadata": {},
   "outputs": [],
   "source": [
    "import os\n",
    "import numpy as n\n",
    "from matplotlib import pyplot as plt"
   ]
  },
  {
   "cell_type": "code",
   "execution_count": 4,
   "id": "1653f691",
   "metadata": {},
   "outputs": [],
   "source": [
    "from modules import utils"
   ]
  },
  {
   "cell_type": "code",
   "execution_count": 11,
   "id": "7af18f3a",
   "metadata": {},
   "outputs": [],
   "source": [
    "# The root directory where the two folders are contained. \n",
    "# You can leave this as is for now, it will work since the data directory that contains the \n",
    "# coordinates and annotations is contained within this repository. If you download the dropbox\n",
    "# folder to your computer and want to use that data, you should set data_root_dir to the root \n",
    "# directory of the dropbox folder.\n",
    "data_root_dir = 'data'\n",
    "\n",
    "# These are hardcoded to corrspond to the folder names in the downloaded dataset.\n",
    "# The first is the folder of files containing coordinates, second is annotations.\n",
    "dlc_dir = 'postprocessedXYCoordinates'\n",
    "ann_dir = 'manualannotations'"
   ]
  },
  {
   "cell_type": "code",
   "execution_count": 16,
   "id": "950261b4",
   "metadata": {},
   "outputs": [
    {
     "name": "stdout",
     "output_type": "stream",
     "text": [
      "Looking for DLC files in : data/postprocessedXYCoordinates\n",
      "\tFound: ['Female1.npy', 'Female2.npy', 'Female4.npy', 'Male1.npy', 'Male2.npy', 'Male3.npy']\n",
      "Looking for Annotation files in : data/manualannotations\n",
      "\tFound: ['Annotated_Female1.npy', 'Annotated_Female2.npy', 'Annotated_Female3.npy', 'Annotated_Female4.npy', 'Annotated_Male1.npy', 'Annotated_Male2.npy', 'Annotated_Male3.npy']\n"
     ]
    }
   ],
   "source": [
    "# Using os.path.join to join names of folders when building a path is better practice\n",
    "# than doing it manually with something like path = data_root + '/' + dlc_dir\n",
    "dlc_path = os.path.join(data_root, dlc_dir)\n",
    "dlc_files = os.listdir(dlc_path)\n",
    "ann_path = os.path.join(data_root, ann_dir)\n",
    "ann_files = os.listdir(ann_path)\n",
    "\n",
    "print(\"Looking for DLC files in : %s\" % dlc_path)\n",
    "print(\"\\tFound: \" + str(dlc_files))\n",
    "print(\"Looking for Annotation files in : %s\" % ann_path)\n",
    "print(\"\\tFound: \" + str(ann_files))"
   ]
  },
  {
   "cell_type": "code",
   "execution_count": 10,
   "id": "769c1e9c",
   "metadata": {},
   "outputs": [
    {
     "data": {
      "text/plain": [
       "['Female1.npy',\n",
       " 'Female2.npy',\n",
       " 'Female4.npy',\n",
       " 'Male1.npy',\n",
       " 'Male2.npy',\n",
       " 'Male3.npy']"
      ]
     },
     "execution_count": 10,
     "metadata": {},
     "output_type": "execute_result"
    }
   ],
   "source": [
    "os.listdir(dlc_path)"
   ]
  },
  {
   "cell_type": "code",
   "execution_count": null,
   "id": "17ecd69f",
   "metadata": {},
   "outputs": [],
   "source": []
  }
 ],
 "metadata": {
  "kernelspec": {
   "display_name": "Python 3 (ipykernel)",
   "language": "python",
   "name": "python3"
  },
  "language_info": {
   "codemirror_mode": {
    "name": "ipython",
    "version": 3
   },
   "file_extension": ".py",
   "mimetype": "text/x-python",
   "name": "python",
   "nbconvert_exporter": "python",
   "pygments_lexer": "ipython3",
   "version": "3.9.7"
  }
 },
 "nbformat": 4,
 "nbformat_minor": 5
}
