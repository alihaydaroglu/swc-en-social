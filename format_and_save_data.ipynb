{
 "cells": [
  {
   "cell_type": "code",
   "execution_count": 3,
   "id": "6698f29d",
   "metadata": {},
   "outputs": [],
   "source": [
    "import os\n",
    "import numpy as n\n",
    "from matplotlib import pyplot as plt\n",
    "import pickle"
   ]
  },
  {
   "cell_type": "code",
   "execution_count": 4,
   "id": "900afeb7",
   "metadata": {},
   "outputs": [],
   "source": [
    "from modules import utils"
   ]
  },
  {
   "cell_type": "markdown",
   "id": "ad5a2177",
   "metadata": {},
   "source": [
    "### Set up data directories"
   ]
  },
  {
   "cell_type": "code",
   "execution_count": 11,
   "id": "a2adc88e",
   "metadata": {},
   "outputs": [],
   "source": [
    "# The root directory where the two folders are contained. \n",
    "# You can leave this as is for now, it will work since the data directory that contains the \n",
    "# coordinates and annotations is contained within this repository. If you download the dropbox\n",
    "# folder to your computer and want to use that data, you should set data_root_dir to the root \n",
    "# directory of the dropbox folder.\n",
    "data_root_dir = 'data'\n",
    "\n",
    "# These are hardcoded to corrspond to the folder names in the downloaded dataset.\n",
    "# The first is the folder of files containing coordinates, second is annotations.\n",
    "dlc_dir = 'postprocessedXYCoordinates'\n",
    "ann_dir = 'manualannotations'"
   ]
  },
  {
   "cell_type": "markdown",
   "id": "5bcccf1f",
   "metadata": {},
   "source": [
    "### Load in and format the data"
   ]
  },
  {
   "cell_type": "code",
   "execution_count": 29,
   "id": "62c0a2cc",
   "metadata": {},
   "outputs": [
    {
     "name": "stdout",
     "output_type": "stream",
     "text": [
      "Looking for DLC files in : data/postprocessedXYCoordinates\n",
      "\tFound: \n",
      "\t\tFemale1.npy\n",
      "\t\tFemale2.npy\n",
      "\t\tFemale4.npy\n",
      "\t\tMale1.npy\n",
      "\t\tMale2.npy\n",
      "\t\tMale3.npy\n",
      "Looking for Annotation files in : data/manualannotations\n",
      "\tFound: \n",
      "\t\tAnnotated_Female1.npy\n",
      "\t\tAnnotated_Female2.npy\n",
      "\t\tAnnotated_Female4.npy\n",
      "\t\tAnnotated_Male1.npy\n",
      "\t\tAnnotated_Male2.npy\n",
      "\t\tAnnotated_Male3.npy\n"
     ]
    }
   ],
   "source": [
    "# Using os.path.join to join names of folders when building a path is better practice\n",
    "# than doing it manually with something like path = data_root + '/' + dlc_dir\n",
    "dlc_path = os.path.join(data_root, dlc_dir)\n",
    "dlc_files = os.listdir(dlc_path)\n",
    "ann_path = os.path.join(data_root, ann_dir)\n",
    "ann_files = os.listdir(ann_path)\n",
    "\n",
    "print(\"Looking for DLC files in : %s\" % dlc_path)\n",
    "print((\"\\tFound: \" + \"\\n\\t\\t%s\" *len(dlc_files))% tuple(dlc_files))\n",
    "print(\"Looking for Annotation files in : %s\" % ann_path)\n",
    "print((\"\\tFound: \" + \"\\n\\t\\t%s\" *len(ann_files))% tuple(ann_files))"
   ]
  },
  {
   "cell_type": "code",
   "execution_count": 66,
   "id": "7daec97c",
   "metadata": {},
   "outputs": [
    {
     "name": "stdout",
     "output_type": "stream",
     "text": [
      "Loading files: \n",
      "\tFemale1.npy\n",
      "\tAnnotated_Female1.npy\n"
     ]
    },
    {
     "name": "stderr",
     "output_type": "stream",
     "text": [
      "/tmp/ipykernel_6170/1425379424.py:14: DeprecationWarning: `np.int` is a deprecated alias for the builtin `int`. To silence this warning, use `int` by itself. Doing this will not modify any behavior and is safe. When replacing `np.int`, you may wish to use e.g. `np.int64` or `np.int32` to specify the precision. If you wish to review your current use, check the release note link for additional information.\n",
      "Deprecated in NumPy 1.20; for more details and guidance: https://numpy.org/devdocs/release/1.20.0-notes.html#deprecations\n",
      "  dtype = [('t', n.int), ('ann', 'U30')]\n"
     ]
    },
    {
     "name": "stdout",
     "output_type": "stream",
     "text": [
      "\tFemale2.npy\n",
      "\tAnnotated_Female2.npy\n",
      "\tFemale4.npy\n",
      "\tAnnotated_Female4.npy\n",
      "\tMale1.npy\n",
      "\tAnnotated_Male1.npy\n",
      "\tMale2.npy\n",
      "\tAnnotated_Male2.npy\n",
      "\tMale3.npy\n",
      "\tAnnotated_Male3.npy\n"
     ]
    }
   ],
   "source": [
    "# This bunch of code loads in and formats the data... don't worry too much about it, just let it do its thing! \n",
    "# The output is a dictionary called all_data, where there is a key for each of the experiments\n",
    "all_data = {}\n",
    "print(\"Loading files: \")\n",
    "for f_name in dlc_files:\n",
    "    if f_name[-3:] != 'npy':\n",
    "        continue\n",
    "        \n",
    "    dlc_file=os.path.join(dlc_path, f_name)\n",
    "    ann_file=os.path.join(ann_path, 'Annotated_' + f_name)\n",
    "    print(\"\\t\" + f_name + \"\\n\\tAnnotated_\" + f_name)\n",
    "    data_dlc = n.load(dlc_file)\n",
    "    data_ann = n.load(ann_file)\n",
    "    labels = data_dlc[0]\n",
    "    dtype = [('t', n.int), ('ann', 'U30')]\n",
    "    i = 0\n",
    "    for label in data_dlc[0]:\n",
    "        i += 1\n",
    "        coord = 'x' if i % 2 == 0 else 'y'\n",
    "        dtype += [(label + '_' + coord , n.float32 )]\n",
    "\n",
    "    data_concat = n.concatenate((data_ann, data_dlc[1:]),axis=1)\n",
    "    data = n.array(n.zeros(data_concat.shape[0]), dtype = dtype)\n",
    "    for i in range(data_concat.shape[1]):\n",
    "        data[dtype[i][0]] = data_concat[:, i]\n",
    "    all_data[f_name[:-4]] = data"
   ]
  },
  {
   "cell_type": "code",
   "execution_count": 80,
   "id": "b5af7e66",
   "metadata": {},
   "outputs": [],
   "source": [
    "f = open(os.path.join(data_root_dir, 'all_data.p'), 'wb')\n",
    "pickle.dump(all_data, f)"
   ]
  },
  {
   "cell_type": "code",
   "execution_count": null,
   "id": "099e1e29",
   "metadata": {},
   "outputs": [],
   "source": []
  }
 ],
 "metadata": {
  "kernelspec": {
   "display_name": "Python 3 (ipykernel)",
   "language": "python",
   "name": "python3"
  },
  "language_info": {
   "codemirror_mode": {
    "name": "ipython",
    "version": 3
   },
   "file_extension": ".py",
   "mimetype": "text/x-python",
   "name": "python",
   "nbconvert_exporter": "python",
   "pygments_lexer": "ipython3",
   "version": "3.9.7"
  }
 },
 "nbformat": 4,
 "nbformat_minor": 5
}
